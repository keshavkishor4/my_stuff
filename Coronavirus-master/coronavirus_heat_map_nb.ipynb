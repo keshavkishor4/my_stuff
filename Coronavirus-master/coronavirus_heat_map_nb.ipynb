{
 "cells": [
  {
   "cell_type": "code",
   "execution_count": 1,
   "metadata": {},
   "outputs": [],
   "source": [
    "# Data Science Coronavírus\n",
    "\n",
    "### Importando as bibliotecas para processamento"
   ]
  },
  {
   "cell_type": "code",
   "execution_count": 1,
   "metadata": {},
   "outputs": [],
   "source": [
    "import pandas as pd\n",
    "import numpy as np\n",
    "from datetime import date"
   ]
  },
  {
   "cell_type": "markdown",
   "metadata": {},
   "source": [
    "### Pegando o dia de hoje"
   ]
  },
  {
   "cell_type": "code",
   "execution_count": 2,
   "metadata": {},
   "outputs": [
    {
     "name": "stdout",
     "output_type": "stream",
     "text": [
      "13\n"
     ]
    }
   ],
   "source": [
    "from datetime import date\n",
    "dia = (date.today())\n",
    "dia = str(dia)\n",
    "dia = dia[-2:]\n",
    "dia = int(dia)\n",
    "print(dia)"
   ]
  },
  {
   "cell_type": "markdown",
   "metadata": {},
   "source": [
    "### Armazenando os Links do Dataset em uma Lista"
   ]
  },
  {
   "cell_type": "code",
   "execution_count": 3,
   "metadata": {},
   "outputs": [],
   "source": [
    "#Base de dados\n",
    "#https://github.com/CSSEGISandData/COVID-19/tree/master/csse_covid_19_data?fbclid=IwAR1C6Cf_k5bpeEF5v1I9G-OlXeMZd0B1JreUw4ayc5tuOLYVSKvyunFaam8\n",
    "\n",
    "base_url = 'https://raw.githubusercontent.com/CSSEGISandData/COVID-19/master/csse_covid_19_data/csse_covid_19_daily_reports'\n",
    "lista_links = []\n",
    "#Pegando os links do mês de janeiro\n",
    "for c in range(22, 32):\n",
    "    lista_links.append(str(base_url+f'/01-{c}-2020.csv'))\n",
    "#Pegando os links do mês de fevereiro\n",
    "for c in range(1, 30):\n",
    "    if c <= 9:\n",
    "        lista_links.append(str(base_url+f'/02-0{c}-2020.csv'))\n",
    "    else:\n",
    "        lista_links.append(str(base_url+f'/02-{c}-2020.csv'))\n",
    "#Pegando os links do mês de março\n",
    "for c in range(1, 32):\n",
    "    if c <= 9:\n",
    "        lista_links.append(str(base_url+f'/03-0{c}-2020.csv'))\n",
    "    else:\n",
    "        lista_links.append(str(base_url+f'/03-{c}-2020.csv'))\n",
    "#Pegando os links do mês de abril\n",
    "for c in range(1,dia):\n",
    "    if c <= 9:\n",
    "        lista_links.append(str(base_url+f'/04-0{c}-2020.csv'))\n",
    "    else:\n",
    "        lista_links.append(str(base_url+f'/04-{c}-2020.csv'))\n"
   ]
  },
  {
   "cell_type": "markdown",
   "metadata": {},
   "source": [
    "### Convertendo os Links em um Dataframe e Armazenando em uma Lista"
   ]
  },
  {
   "cell_type": "code",
   "execution_count": 4,
   "metadata": {},
   "outputs": [],
   "source": [
    "lista = []\n",
    "for c in lista_links:\n",
    "    dados = pd.read_csv(c)\n",
    "    np.array(dados)\n",
    "    lista.append(dados)"
   ]
  },
  {
   "cell_type": "markdown",
   "metadata": {},
   "source": [
    "### Visualizando e Descrevendo os Dados "
   ]
  },
  {
   "cell_type": "code",
   "execution_count": 5,
   "metadata": {},
   "outputs": [
    {
     "data": {
      "text/plain": [
       "0    30.9756\n",
       "1    36.0000\n",
       "2    43.0000\n",
       "3    23.3417\n",
       "4    33.8820\n",
       "Name: Latitude, dtype: float64"
      ]
     },
     "execution_count": 5,
     "metadata": {},
     "output_type": "execute_result"
    }
   ],
   "source": [
    "#Vamos visualizar uma tabela individualmente para observamos as suas colunas \n",
    "#lista[60].head()\n",
    "for c in range(0, len(lista)):\n",
    "    lista[c].rename(columns = {'Lat':'Latitude'}, inplace = True)\n",
    "    lista[c].rename(columns = {'Long_':'Longitude'}, inplace = True)\n",
    "lista[39]['Latitude'].head()"
   ]
  },
  {
   "cell_type": "code",
   "execution_count": 6,
   "metadata": {},
   "outputs": [
    {
     "name": "stdout",
     "output_type": "stream",
     "text": [
      "82\n",
      "<class 'pandas.core.frame.DataFrame'>\n",
      "RangeIndex: 38 entries, 0 to 37\n",
      "Data columns (total 6 columns):\n",
      " #   Column          Non-Null Count  Dtype  \n",
      "---  ------          --------------  -----  \n",
      " 0   Province/State  35 non-null     object \n",
      " 1   Country/Region  38 non-null     object \n",
      " 2   Last Update     38 non-null     object \n",
      " 3   Confirmed       29 non-null     float64\n",
      " 4   Deaths          1 non-null      float64\n",
      " 5   Recovered       1 non-null      float64\n",
      "dtypes: float64(3), object(3)\n",
      "memory usage: 1.9+ KB\n"
     ]
    }
   ],
   "source": [
    "print(len(lista))\n",
    "lista[0].info()"
   ]
  },
  {
   "cell_type": "code",
   "execution_count": 7,
   "metadata": {},
   "outputs": [
    {
     "data": {
      "text/html": [
       "<div>\n",
       "<style scoped>\n",
       "    .dataframe tbody tr th:only-of-type {\n",
       "        vertical-align: middle;\n",
       "    }\n",
       "\n",
       "    .dataframe tbody tr th {\n",
       "        vertical-align: top;\n",
       "    }\n",
       "\n",
       "    .dataframe thead th {\n",
       "        text-align: right;\n",
       "    }\n",
       "</style>\n",
       "<table border=\"1\" class=\"dataframe\">\n",
       "  <thead>\n",
       "    <tr style=\"text-align: right;\">\n",
       "      <th></th>\n",
       "      <th>Confirmed</th>\n",
       "      <th>Deaths</th>\n",
       "      <th>Recovered</th>\n",
       "    </tr>\n",
       "  </thead>\n",
       "  <tbody>\n",
       "    <tr>\n",
       "      <th>count</th>\n",
       "      <td>29.00</td>\n",
       "      <td>1.0</td>\n",
       "      <td>1.0</td>\n",
       "    </tr>\n",
       "    <tr>\n",
       "      <th>mean</th>\n",
       "      <td>19.14</td>\n",
       "      <td>17.0</td>\n",
       "      <td>28.0</td>\n",
       "    </tr>\n",
       "    <tr>\n",
       "      <th>std</th>\n",
       "      <td>81.88</td>\n",
       "      <td>NaN</td>\n",
       "      <td>NaN</td>\n",
       "    </tr>\n",
       "    <tr>\n",
       "      <th>min</th>\n",
       "      <td>1.00</td>\n",
       "      <td>17.0</td>\n",
       "      <td>28.0</td>\n",
       "    </tr>\n",
       "    <tr>\n",
       "      <th>25%</th>\n",
       "      <td>1.00</td>\n",
       "      <td>17.0</td>\n",
       "      <td>28.0</td>\n",
       "    </tr>\n",
       "    <tr>\n",
       "      <th>50%</th>\n",
       "      <td>2.00</td>\n",
       "      <td>17.0</td>\n",
       "      <td>28.0</td>\n",
       "    </tr>\n",
       "    <tr>\n",
       "      <th>75%</th>\n",
       "      <td>5.00</td>\n",
       "      <td>17.0</td>\n",
       "      <td>28.0</td>\n",
       "    </tr>\n",
       "    <tr>\n",
       "      <th>max</th>\n",
       "      <td>444.00</td>\n",
       "      <td>17.0</td>\n",
       "      <td>28.0</td>\n",
       "    </tr>\n",
       "  </tbody>\n",
       "</table>\n",
       "</div>"
      ],
      "text/plain": [
       "       Confirmed  Deaths  Recovered\n",
       "count      29.00     1.0        1.0\n",
       "mean       19.14    17.0       28.0\n",
       "std        81.88     NaN        NaN\n",
       "min         1.00    17.0       28.0\n",
       "25%         1.00    17.0       28.0\n",
       "50%         2.00    17.0       28.0\n",
       "75%         5.00    17.0       28.0\n",
       "max       444.00    17.0       28.0"
      ]
     },
     "execution_count": 7,
     "metadata": {},
     "output_type": "execute_result"
    }
   ],
   "source": [
    "round(lista[0].describe(),2)"
   ]
  },
  {
   "cell_type": "markdown",
   "metadata": {},
   "source": [
    "### Criando as Listas que serão utilizadas para plotar o gráfico"
   ]
  },
  {
   "cell_type": "code",
   "execution_count": 8,
   "metadata": {},
   "outputs": [],
   "source": [
    "lista_mortos = []\n",
    "lista_casos_confirmados = []\n",
    "lista_recuperados = []\n",
    "\n",
    "for c in range(0,len(lista)):\n",
    "    lista_mortos.append((lista[c]['Deaths']).sum())\n",
    "    lista_casos_confirmados.append((lista[c]['Confirmed']).sum())\n",
    "    lista_recuperados.append((lista[c]['Recovered']).sum())"
   ]
  },
  {
   "cell_type": "markdown",
   "metadata": {},
   "source": [
    "### Plotando o Gráfico"
   ]
  },
  {
   "cell_type": "code",
   "execution_count": 9,
   "metadata": {
    "scrolled": false
   },
   "outputs": [
    {
     "data": {
      "image/png": "[encoded data removed]",
      "text/plain": [
       "<Figure size 748.8x514.8 with 1 Axes>"
      ]
     },
     "metadata": {
      "needs_background": "light"
     },
     "output_type": "display_data"
    }
   ],
   "source": [
    "import matplotlib.pyplot as plt\n",
    "x = [i for i in range(0, len(lista_mortos))]\n",
    "plt.style.use('seaborn-talk')\n",
    "y_mortos = lista_mortos\n",
    "y_casos_confirmados = lista_casos_confirmados\n",
    "y_recuperados = lista_recuperados\n",
    "plt.plot(x, y_mortos, color='red', label='Número de Mortos', linewidth=3.0)\n",
    "plt.plot(x, y_casos_confirmados, color='green', label='Casos Confirmados', linewidth=3.0)\n",
    "plt.plot(x, y_recuperados, color='blue', label='Curados', linewidth=3.0)\n",
    "plt.xlabel('Dias desde o 1° caso')\n",
    "plt.ylabel('Número de indivíduos')\n",
    "plt.title('Evolução do Corona Vírus no Mundo')\n",
    "#fig = plt.gcf()\n",
    "#fig.set_size_inches(10, 8)\n",
    "plt.grid(True)\n",
    "plt.legend(loc='upper center')\n",
    "plt.savefig('corona.png')\n",
    "plt.show()\n"
   ]
  },
  {
   "cell_type": "markdown",
   "metadata": {},
   "source": [
    "### Estilos Disponíveis"
   ]
  },
  {
   "cell_type": "code",
   "execution_count": 10,
   "metadata": {},
   "outputs": [
    {
     "data": {
      "text/plain": [
       "array([['Solarize_Light2', '_classic_test_patch', 'bmh', 'classic',\n",
       "        'dark_background', 'fast', 'fivethirtyeight', 'ggplot',\n",
       "        'grayscale', 'seaborn', 'seaborn-bright', 'seaborn-colorblind',\n",
       "        'seaborn-dark', 'seaborn-dark-palette', 'seaborn-darkgrid',\n",
       "        'seaborn-deep', 'seaborn-muted', 'seaborn-notebook',\n",
       "        'seaborn-paper', 'seaborn-pastel', 'seaborn-poster',\n",
       "        'seaborn-talk', 'seaborn-ticks', 'seaborn-white',\n",
       "        'seaborn-whitegrid', 'tableau-colorblind10']], dtype='<U20')"
      ]
     },
     "execution_count": 10,
     "metadata": {},
     "output_type": "execute_result"
    }
   ],
   "source": [
    "#Para consultar os estilos disponíveis, rode esse código\n",
    "np.reshape(plt.style.available, (1,-1))"
   ]
  },
  {
   "cell_type": "markdown",
   "metadata": {},
   "source": [
    "### Criando outro Dataframe com os dados mais atuais"
   ]
  },
  {
   "cell_type": "code",
   "execution_count": 11,
   "metadata": {},
   "outputs": [],
   "source": [
    "dados_atuais = {'Número de Mortos':y_mortos[len(y_mortos)-1],\n",
    "                'Casos Confirmados':y_casos_confirmados[len(y_casos_confirmados)-1],\n",
    "                'Curados':y_recuperados[len(y_recuperados)-1]}"
   ]
  },
  {
   "cell_type": "code",
   "execution_count": 12,
   "metadata": {},
   "outputs": [],
   "source": [
    "dados_atuais = pd.DataFrame([dados_atuais])"
   ]
  },
  {
   "cell_type": "code",
   "execution_count": 13,
   "metadata": {},
   "outputs": [
    {
     "data": {
      "text/html": [
       "<div>\n",
       "<style scoped>\n",
       "    .dataframe tbody tr th:only-of-type {\n",
       "        vertical-align: middle;\n",
       "    }\n",
       "\n",
       "    .dataframe tbody tr th {\n",
       "        vertical-align: top;\n",
       "    }\n",
       "\n",
       "    .dataframe thead th {\n",
       "        text-align: right;\n",
       "    }\n",
       "</style>\n",
       "<table border=\"1\" class=\"dataframe\">\n",
       "  <thead>\n",
       "    <tr style=\"text-align: right;\">\n",
       "      <th></th>\n",
       "      <th>Número de Mortos</th>\n",
       "      <th>Casos Confirmados</th>\n",
       "      <th>Curados</th>\n",
       "    </tr>\n",
       "  </thead>\n",
       "  <tbody>\n",
       "    <tr>\n",
       "      <th>0</th>\n",
       "      <td>114089</td>\n",
       "      <td>1846680</td>\n",
       "      <td>421722</td>\n",
       "    </tr>\n",
       "  </tbody>\n",
       "</table>\n",
       "</div>"
      ],
      "text/plain": [
       "   Número de Mortos  Casos Confirmados  Curados\n",
       "0            114089            1846680   421722"
      ]
     },
     "execution_count": 13,
     "metadata": {},
     "output_type": "execute_result"
    }
   ],
   "source": [
    "dados_atuais"
   ]
  },
  {
   "cell_type": "markdown",
   "metadata": {},
   "source": [
    "### Calculando a Taxa de Mortalidade do Vírus"
   ]
  },
  {
   "cell_type": "code",
   "execution_count": 14,
   "metadata": {},
   "outputs": [
    {
     "data": {
      "text/html": [
       "<div>\n",
       "<style scoped>\n",
       "    .dataframe tbody tr th:only-of-type {\n",
       "        vertical-align: middle;\n",
       "    }\n",
       "\n",
       "    .dataframe tbody tr th {\n",
       "        vertical-align: top;\n",
       "    }\n",
       "\n",
       "    .dataframe thead th {\n",
       "        text-align: right;\n",
       "    }\n",
       "</style>\n",
       "<table border=\"1\" class=\"dataframe\">\n",
       "  <thead>\n",
       "    <tr style=\"text-align: right;\">\n",
       "      <th></th>\n",
       "      <th>Número de Mortos</th>\n",
       "      <th>Casos Confirmados</th>\n",
       "      <th>Curados</th>\n",
       "      <th>Taxa_Mortalidade(%)</th>\n",
       "    </tr>\n",
       "  </thead>\n",
       "  <tbody>\n",
       "    <tr>\n",
       "      <th>0</th>\n",
       "      <td>114089</td>\n",
       "      <td>1846680</td>\n",
       "      <td>421722</td>\n",
       "      <td>6.17806</td>\n",
       "    </tr>\n",
       "  </tbody>\n",
       "</table>\n",
       "</div>"
      ],
      "text/plain": [
       "   Número de Mortos  Casos Confirmados  Curados  Taxa_Mortalidade(%)\n",
       "0            114089            1846680   421722              6.17806"
      ]
     },
     "execution_count": 14,
     "metadata": {},
     "output_type": "execute_result"
    }
   ],
   "source": [
    "#Taxa de Mortalidade do vírus\n",
    "dados_atuais['Taxa_Mortalidade(%)'] = (dados_atuais['Número de Mortos']/dados_atuais['Casos Confirmados'])*100\n",
    "dados_atuais"
   ]
  },
  {
   "cell_type": "markdown",
   "metadata": {},
   "source": [
    "### Criando um Mapa de Calor com alguns lugares afetados pelo Vírus"
   ]
  },
  {
   "cell_type": "code",
   "execution_count": 19,
   "metadata": {},
   "outputs": [
    {
     "ename": "ModuleNotFoundError",
     "evalue": "No module named 'folium'",
     "output_type": "error",
     "traceback": [
      "\u001b[0;31m---------------------------------------------------------------------------\u001b[0m",
      "\u001b[0;31mModuleNotFoundError\u001b[0m                       Traceback (most recent call last)",
      "\u001b[0;32m<ipython-input-19-5f5ca8b01458>\u001b[0m in \u001b[0;36m<module>\u001b[0;34m\u001b[0m\n\u001b[0;32m----> 1\u001b[0;31m \u001b[0;32mimport\u001b[0m \u001b[0mfolium\u001b[0m\u001b[0;34m\u001b[0m\u001b[0;34m\u001b[0m\u001b[0m\n\u001b[0m\u001b[1;32m      2\u001b[0m \u001b[0;32mimport\u001b[0m \u001b[0mmath\u001b[0m\u001b[0;34m\u001b[0m\u001b[0;34m\u001b[0m\u001b[0m\n\u001b[1;32m      3\u001b[0m \u001b[0;32mfrom\u001b[0m \u001b[0mfolium\u001b[0m\u001b[0;34m.\u001b[0m\u001b[0mplugins\u001b[0m \u001b[0;32mimport\u001b[0m \u001b[0mHeatMap\u001b[0m\u001b[0;34m\u001b[0m\u001b[0;34m\u001b[0m\u001b[0m\n\u001b[1;32m      4\u001b[0m \u001b[0mmapa\u001b[0m \u001b[0;34m=\u001b[0m \u001b[0mfolium\u001b[0m\u001b[0;34m.\u001b[0m\u001b[0mMap\u001b[0m\u001b[0;34m(\u001b[0m\u001b[0mlocation\u001b[0m\u001b[0;34m=\u001b[0m\u001b[0;34m[\u001b[0m\u001b[0;36m10\u001b[0m\u001b[0;34m,\u001b[0m\u001b[0;36m10\u001b[0m\u001b[0;34m]\u001b[0m\u001b[0;34m,\u001b[0m\u001b[0mzoom_start\u001b[0m\u001b[0;34m=\u001b[0m\u001b[0;36m1.5\u001b[0m\u001b[0;34m,\u001b[0m\u001b[0mtiles\u001b[0m\u001b[0;34m=\u001b[0m\u001b[0;34m'Stamen Toner'\u001b[0m\u001b[0;34m)\u001b[0m\u001b[0;34m\u001b[0m\u001b[0;34m\u001b[0m\u001b[0m\n\u001b[1;32m      5\u001b[0m \u001b[0mlocais\u001b[0m \u001b[0;34m=\u001b[0m \u001b[0;34m[\u001b[0m\u001b[0;34m]\u001b[0m\u001b[0;34m\u001b[0m\u001b[0;34m\u001b[0m\u001b[0m\n",
      "\u001b[0;31mModuleNotFoundError\u001b[0m: No module named 'folium'"
     ]
    }
   ],
   "source": [
    "import folium\n",
    "import math\n",
    "from folium.plugins import HeatMap\n",
    "mapa = folium.Map(location=[10,10],zoom_start=1.5,tiles='Stamen Toner')\n",
    "locais = []\n",
    "\n",
    "for c in range(39, len(lista)):\n",
    "    for lat,lon in zip(lista[c]['Latitude'], lista[c]['Longitude']):\n",
    "        if math.isnan(lat) == True or math.isnan(lon) == True:\n",
    "            pass\n",
    "        else:\n",
    "            temp = [lat,lon]\n",
    "            locais.append(temp)\n",
    "\n",
    "\n",
    "HeatMap(locais, radius=16).add_to(mapa)\n",
    "mapa.save('corona_mapa.html')"
   ]
  },
  {
   "cell_type": "code",
   "execution_count": null,
   "metadata": {},
   "outputs": [],
   "source": [
    "mapa"
   ]
  },
  {
   "cell_type": "markdown",
   "metadata": {},
   "source": [
    "![corona_heat_map](world_heat_map.png)"
   ]
  },
  {
   "cell_type": "code",
   "execution_count": 17,
   "metadata": {},
   "outputs": [
    {
     "name": "stdout",
     "output_type": "stream",
     "text": [
      "Collecting folium\n",
      "  Using cached https://files.pythonhosted.org/packages/a4/f0/44e69d50519880287cc41e7c8a6acc58daa9a9acf5f6afc52bcc70f69a6d/folium-0.11.0-py2.py3-none-any.whl\n",
      "Requirement already satisfied: numpy in /Library/Python/3.8/site-packages (from folium) (1.19.2)\n",
      "Requirement already satisfied: requests in /Library/Python/3.8/site-packages (from folium) (2.24.0)\n",
      "Collecting jinja2>=2.9 (from folium)\n",
      "  Using cached https://files.pythonhosted.org/packages/30/9e/f663a2aa66a09d838042ae1a2c5659828bb9b41ea3a6efa20a20fd92b121/Jinja2-2.11.2-py2.py3-none-any.whl\n",
      "Collecting branca>=0.3.0 (from folium)\n",
      "  Using cached https://files.pythonhosted.org/packages/13/fb/9eacc24ba3216510c6b59a4ea1cd53d87f25ba76237d7f4393abeaf4c94e/branca-0.4.1-py3-none-any.whl\n",
      "Requirement already satisfied: idna<3,>=2.5 in /Library/Python/3.8/site-packages (from requests->folium) (2.10)\n",
      "Requirement already satisfied: urllib3!=1.25.0,!=1.25.1,<1.26,>=1.21.1 in /Library/Python/3.8/site-packages (from requests->folium) (1.25.11)\n",
      "Requirement already satisfied: certifi>=2017.4.17 in /Library/Python/3.8/site-packages (from requests->folium) (2020.6.20)\n",
      "Requirement already satisfied: chardet<4,>=3.0.2 in /Library/Python/3.8/site-packages (from requests->folium) (3.0.4)\n",
      "Collecting MarkupSafe>=0.23 (from jinja2>=2.9->folium)\n",
      "  Using cached https://files.pythonhosted.org/packages/0c/12/37f68957526d1ec0883b521934b4e1b8ff3dd8e4fab858a5bf3e487bcee9/MarkupSafe-1.1.1-cp38-cp38-macosx_10_9_x86_64.whl\n",
      "Installing collected packages: MarkupSafe, jinja2, branca, folium\n",
      "Successfully installed MarkupSafe-1.1.1 branca-0.4.1 folium-0.11.0 jinja2-2.11.2\n",
      "\u001b[33mWARNING: You are using pip version 19.2.3, however version 20.2.4 is available.\n",
      "You should consider upgrading via the 'pip install --upgrade pip' command.\u001b[0m\n"
     ]
    }
   ],
   "source": [
    "!pip3 install folium --user"
   ]
  },
  {
   "cell_type": "code",
   "execution_count": null,
   "metadata": {},
   "outputs": [],
   "source": []
  }
 ],
 "metadata": {
  "kernelspec": {
   "display_name": "Python 3",
   "language": "python",
   "name": "python3"
  },
  "language_info": {
   "codemirror_mode": {
    "name": "ipython",
    "version": 3
   },
   "file_extension": ".py",
   "mimetype": "text/x-python",
   "name": "python",
   "nbconvert_exporter": "python",
   "pygments_lexer": "ipython3",
   "version": "3.7.6"
  }
 },
 "nbformat": 4,
 "nbformat_minor": 4
}
