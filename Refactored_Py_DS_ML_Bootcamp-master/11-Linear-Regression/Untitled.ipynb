{
 "cells": [
  {
   "cell_type": "code",
   "execution_count": 1,
   "metadata": {},
   "outputs": [
    {
     "name": "stdout",
     "output_type": "stream",
     "text": [
      "Collecting git+https://github.com/autonomio/talos@daily-dev\n",
      "  Cloning https://github.com/autonomio/talos (to revision daily-dev) to /private/var/folders/vy/m1k6nwnd7bs_13m7kgk11md9gth68t/T/pip-req-build-6fqi8ng5\n",
      "  Running command git clone -q https://github.com/autonomio/talos /private/var/folders/vy/m1k6nwnd7bs_13m7kgk11md9gth68t/T/pip-req-build-6fqi8ng5\n",
      "\u001b[33m  WARNING: Did not find branch or tag 'daily-dev', assuming revision or ref.\u001b[0m\n",
      "  Running command git checkout -q daily-dev\n",
      "  error: pathspec 'daily-dev' did not match any file(s) known to git.\n",
      "\u001b[31mERROR: Command errored out with exit status 1: git checkout -q daily-dev Check the logs for full command output.\u001b[0m\n",
      "Note: you may need to restart the kernel to use updated packages.\n"
     ]
    }
   ],
   "source": [
    "pip install git+https://github.com/autonomio/talos@daily-dev "
   ]
  },
  {
   "cell_type": "code",
   "execution_count": null,
   "metadata": {},
   "outputs": [],
   "source": []
  }
 ],
 "metadata": {
  "kernelspec": {
   "display_name": "Python 3",
   "language": "python",
   "name": "python3"
  },
  "language_info": {
   "codemirror_mode": {
    "name": "ipython",
    "version": 3
   },
   "file_extension": ".py",
   "mimetype": "text/x-python",
   "name": "python",
   "nbconvert_exporter": "python",
   "pygments_lexer": "ipython3",
   "version": "3.7.6"
  }
 },
 "nbformat": 4,
 "nbformat_minor": 4
}
